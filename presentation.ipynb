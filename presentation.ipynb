{
 "cells": [
  {
   "cell_type": "markdown",
   "metadata": {},
   "source": [
    "# The challenge of future energy systems: Transmission Lines"
   ]
  },
  {
   "cell_type": "markdown",
   "metadata": {},
   "source": [
    "### Authors: *Gonzalo Sánchez Contreras, Emilio de las Heras Páez de la Cadena, Ignacio Sanz Soriano*\n",
    "### Date: *26/04/2017*\n",
    "\n",
    "**Objective:** The aim of this notebook is to analyze and compare transmission line simulation results with the real measures obtained in the laboratory in different load scenarios to study the effects on voltage, current and losses. To achieve these goal, we use a scale transmission line to take measures that are then rescaled to real ones (132 kV, 100 MVA) and compare with simulation results using distributed parameters model."
   ]
  },
  {
   "cell_type": "markdown",
   "metadata": {},
   "source": [
    "## Technology (old and new) & Main Characteristics Low Voltage, Medium Voltage, High Voltage\n",
    "\n",
    "![des](des.jpg \"Title\"){ width=50% }"
   ]
  },
  {
   "cell_type": "markdown",
   "metadata": {},
   "source": [
    "<img src=\"C:\\Users\\nacho\\Desktop\\descarga.jpg\">"
   ]
  },
  {
   "cell_type": "markdown",
   "metadata": {},
   "source": [
    "#### Transmission Lines (High-Medium Voltage)\n",
    "Transmission lines are those responsible for bulk movement of electrical energy (from generating substation to some consumption but mainly a distribution substation). Mostly AC systems, mix between Meshed and Radial.\n",
    "-  HV(defined differently for different regions) is used to have lower losses (due to lower currents).\n",
    "- Transmission lines are predominantly overhead lines (exceptions are underground lines used for urban areas or environmentally sensitive locations). \n",
    "- Transmission is mainly 3-Phase AC although 1-Phase AC is sometimes used.\n",
    "- HVDC is sometimes implemented for greater efficiency over very long distances (hundreds of kms), also submarine power cables and lastly, in the interchange of power between grids that are not mutually synchronized.\n",
    "\n",
    "\n",
    "#### Historically ... \n",
    "- In very early days, no transmission (DC & generation and loads located near each other).  19th 20th centuries saw a rapid industrialization of this power transmission system.\n",
    "\n",
    "#### What the future holds ... \n",
    "- High-temperature superconductors (HTS) promise to revolutionize power distribution by providing lossless transmission of electrical power. This would translate in having a “supergrid”. This is a system based on an idea for combining very long electric power transmission with liquid nitrogen distribution, to achieve superconductivity in the power lines.\n",
    "- Distributed generation presents a need for a two-directional distribution system: New regulation, smartgrids, storage (batteries, EVs), Voltage regulation capable of dealing with under and over voltage. \n",
    "- DC (IF costs severely drop)"
   ]
  },
  {
   "cell_type": "markdown",
   "metadata": {},
   "source": [
    "## Simulation: Voltage increase & checking different values of impedance in the lines\n",
    "\n",
    "#### Scale Transmission Line (Laboratory)\n",
    "**Electric Patrameters**\n",
    "Frequency = 50 Hz\n",
    "Voltage = 220 V\n",
    "Current = 5 A"
   ]
  },
  {
   "cell_type": "markdown",
   "metadata": {},
   "source": [
    "$$ R = 1\\:\\Omega,\\quad L = 11 mH,\\quad C = 2\\cdot 10^{-6}\\:\\mu F$$"
   ]
  },
  {
   "cell_type": "markdown",
   "metadata": {},
   "source": [
    "**Measures taken in the lab, feeding a variable load ($cos(\\varphi)$)**"
   ]
  },
  {
   "cell_type": "code",
   "execution_count": 335,
   "metadata": {
    "collapsed": false
   },
   "outputs": [],
   "source": [
    "import numpy as np\n",
    "\n",
    "V_inicial = [ 222, 221, 221, 221, 222, 222 ]\n",
    "V_final = [ 224, 216, 208, 199, 190, 182 ]\n",
    "Pot = [ 0, 1000, 2000, 3000, 4000, 5000]"
   ]
  },
  {
   "cell_type": "markdown",
   "metadata": {},
   "source": [
    "Now, we calculate the $R_{load}$ for each power consumption.\n",
    "$$R_{load}= \\frac{(U_{load}^{(i)})^2}{P_{load}^{(i)}}$$"
   ]
  },
  {
   "cell_type": "code",
   "execution_count": 336,
   "metadata": {
    "collapsed": false
   },
   "outputs": [
    {
     "name": "stdout",
     "output_type": "stream",
     "text": [
      "[inf, 46.656, 21.632, 13.200333333333333, 9.025, 6.6248]\n"
     ]
    }
   ],
   "source": [
    "# Resistencia de carga\n",
    "x = range(0,6)\n",
    "R_load = []\n",
    "\n",
    "v = []\n",
    "for i in x:\n",
    "    if Pot[i] == 0:\n",
    "        R_load.append(np.inf)\n",
    "    else:\n",
    "        R_load.append(V_final[i]**2/Pot[i])\n",
    "        \n",
    "print(R_load)"
   ]
  },
  {
   "cell_type": "markdown",
   "metadata": {},
   "source": [
    "### Base magnitudes of the Line to calculate *per unit* measures\n"
   ]
  },
  {
   "cell_type": "code",
   "execution_count": 337,
   "metadata": {
    "collapsed": false
   },
   "outputs": [],
   "source": [
    "frecuencia = 50\n",
    "omega = 2*np.pi*frecuencia\n",
    "\n",
    "# Magnitudes base de la línea\n",
    "U = 220\n",
    "I = 5\n",
    "S = np.sqrt(3)*U*I\n",
    "Z = U**2/S\n",
    "\n",
    "# Parámetros eléctricos de la línea\n",
    "R = 1\n",
    "L = 11e-3\n",
    "C = 2e-6\n",
    "\n",
    "# Parámetros en p.u.\n",
    "r = R/Z\n",
    "x = omega*L/Z\n",
    "b = omega*C*Z\n",
    "\n",
    "r_load = R_load/Z\n",
    "\n",
    "# Medidas en p.u.\n",
    "v_inicial = [p/U for p in V_inicial]\n",
    "v_final = [p/U for p in V_final]\n",
    "pot = Pot/S"
   ]
  },
  {
   "cell_type": "markdown",
   "metadata": {},
   "source": [
    "### Voltage Drop ($\\Delta V$) vs. Power Cosumption ($P_{load}$)"
   ]
  },
  {
   "cell_type": "code",
   "execution_count": 338,
   "metadata": {
    "collapsed": false
   },
   "outputs": [
    {
     "name": "stdout",
     "output_type": "stream",
     "text": [
      "[-0.9090909090909038, 2.272727272727282, 5.909090909090919, 10.000000000000009, 14.54545454545454, 18.181818181818176]\n"
     ]
    }
   ],
   "source": [
    "deltaV = [(v_inicial[i] - v_final[i])*100 for i in range(len(v_inicial))]\n",
    "print(deltaV)"
   ]
  },
  {
   "cell_type": "markdown",
   "metadata": {},
   "source": [
    "### Plotting Voltage Drop "
   ]
  },
  {
   "cell_type": "code",
   "execution_count": 339,
   "metadata": {
    "collapsed": false
   },
   "outputs": [
    {
     "name": "stdout",
     "output_type": "stream",
     "text": [
      "Current size: [6.0, 4.0]\n"
     ]
    }
   ],
   "source": [
    "# Get current size\n",
    "fig_size = plt.rcParams[\"figure.figsize\"]\n",
    " \n",
    "# Prints: [8.0, 6.0]\n",
    "print(\"Current size:\", fig_size)\n",
    "#  \n",
    "# Set figure width to 12 and height to 9\n",
    "fig_size[0] = 12\n",
    "fig_size[1] = 9\n",
    "plt.rcParams[\"figure.figsize\"] = fig_size"
   ]
  },
  {
   "cell_type": "code",
   "execution_count": 340,
   "metadata": {
    "collapsed": false,
    "scrolled": false
   },
   "outputs": [
    {
     "data": {
      "application/pdf": "[encoded data removed]",
      "image/png": "[encoded data removed]",
      "text/plain": [
       "<matplotlib.figure.Figure at 0x19c289c3d68>"
      ]
     },
     "metadata": {},
     "output_type": "display_data"
    }
   ],
   "source": [
    "import matplotlib.pyplot as plt\n",
    "from matplotlib.pyplot import *\n",
    "%matplotlib inline\n",
    " \n",
    "from IPython.display import set_matplotlib_formats\n",
    "set_matplotlib_formats('png', 'pdf')\n",
    "\n",
    "x1 = Pot \n",
    "y1 = deltaV\n",
    "plt.ion()\n",
    "plt.isinteractive()\n",
    "\n",
    "# Plot de la caída de tensión\n",
    "plt.suptitle('Voltage Drop')\n",
    "plt.scatter(x1,y1, label = 'Voltage')\n",
    "plt.xlabel('Power (MW)')\n",
    "plt.ylabel('Voltage Drop (p.u.)')\n",
    "plt.legend(loc = 2)\n",
    "plt.grid(True)\n",
    "\n",
    "# Ajuste de los puntos\n",
    "from pylab import *\n",
    "m1,b1 = polyfit(x1,y1,1)\n",
    "X1 = linspace(0,max(Pot),100)\n",
    "Y1 = m1*X1 + b1\n",
    "plot(X1,Y1,'r')\n",
    "\n",
    "plt.show()\n"
   ]
  },
  {
   "cell_type": "markdown",
   "metadata": {
    "collapsed": false
   },
   "source": [
    "## Modelling 132 kV, 100 MVA, 60 km Transmission Line\n",
    "Now, once we have per unit parameters from the line in the lab, we re-scale them to the real 132 kV, 100 MVA, 60 km length transmission line obtaining the next electric parameters."
   ]
  },
  {
   "cell_type": "code",
   "execution_count": 390,
   "metadata": {
    "collapsed": false
   },
   "outputs": [
    {
     "name": "stdout",
     "output_type": "stream",
     "text": [
      "0.0159614344053\n",
      "9.16060284967e-05\n"
     ]
    }
   ],
   "source": [
    "# PARÁMETROS\n",
    "Ubase = 132e3/sqrt(3)\n",
    "Sbase = 100e6/3\n",
    "Ibase  = Sbase/Ubase\n",
    "Zbase = Ubase**2/Sbase\n",
    "\n",
    "L = 60 \n",
    "R = r*Zbase\n",
    "X = x*Zbase\n",
    "B = b/Zbase\n",
    "print(b)\n",
    "print(B)\n",
    "\n",
    "Z = complex(R,X)\n",
    "Y = complex(0,B)\n",
    "R_load = r_load*Zbase\n",
    "Pot = pot*Sbase\n",
    "\n",
    "V_inicial= [x*Ubase for x in v_inicial]\n",
    "V_final = [x*Ubase for x in v_final]\n",
    "\n",
    "I_load =[]\n",
    "for i in range(6):\n",
    "    if R_load[i] == np.inf:\n",
    "        I_load.append(0)\n",
    "    else:\n",
    "        I_load.append(V_final[i]/R_load[i])\n",
    "        \n",
    "deltaV_lab = [V_inicial[i] - V_final[i] for i in range(len(v_inicial))]"
   ]
  },
  {
   "cell_type": "markdown",
   "metadata": {},
   "source": [
    "The electric parameters of the 132 kV transmission line are:\n",
    "$$R = 6.86\\:\\Omega\\quad\\chi=23.70\\:\\Omega\\quad B = 3.05\\cdot10^{-5}\\:\\Omega^{-1}$$"
   ]
  },
  {
   "cell_type": "code",
   "execution_count": 391,
   "metadata": {
    "collapsed": false
   },
   "outputs": [
    {
     "name": "stdout",
     "output_type": "stream",
     "text": [
      "(0.11431535329954588+0.3950455015302126j)\n",
      "1.5267671416112946e-06j\n"
     ]
    }
   ],
   "source": [
    "# Impedancia serie y admitancia paralelo\n",
    "Zs = Z/L; # Ohm/km\n",
    "Yp = Y/L; # S/km\n",
    "print(Zs)\n",
    "print(Yp)"
   ]
  },
  {
   "cell_type": "markdown",
   "metadata": {},
   "source": [
    "Referring them to the length of the line, we obtain:\n",
    "$$R = 0.114\\:\\frac{\\Omega}{km}\\quad\\chi=0.3950\\:\\frac{\\Omega}{km}\\quad B = 1.53\\cdot10^{-6}\\:\\frac{1}{\\Omega\\cdot km}$$\n",
    "Then, the propagation constant $\\gamma = \\sqrt{Z_s\\cdot Y_p}$ and the characteristic impedance $Z_c= \\sqrt{\\frac{Z_s}{Y_p}}$ are calculated as follows:"
   ]
  },
  {
   "cell_type": "code",
   "execution_count": 393,
   "metadata": {
    "collapsed": false
   },
   "outputs": [
    {
     "name": "stdout",
     "output_type": "stream",
     "text": [
      "La constante de propagación vale: (0.111231570162+0.784547610651j) mrad/km\n",
      "La longitud de onda vale: 8008.67305168 km\n",
      "La velocidad de propagación respecto de la luz: 0.00133477884195 veces\n"
     ]
    },
    {
     "data": {
      "text/plain": [
       "519.00086863590116"
      ]
     },
     "execution_count": 393,
     "metadata": {},
     "output_type": "execute_result"
    }
   ],
   "source": [
    "# Constante de Propagacion\n",
    "gamma = np.sqrt(Zs*(Yp));\n",
    "gamma_A = np.sqrt(Zs*(Yp*1e6))\n",
    "print(\"La constante de propagación vale:\",gamma_A,\"mrad/km\")# mrad/km\n",
    "\n",
    "lambd = 2*pi*1e3/imag(gamma_A) # km\n",
    "print(\"La longitud de onda vale:\",lambd, \"km\")\n",
    "\n",
    "v = lambd*frecuencia/3e8       # m/s\n",
    "print(\"La velocidad de propagación respecto de la luz:\",v,\"veces\")\n",
    "\n",
    "# Impedancia caracteristica\n",
    "Zc = np.sqrt(Zs/Yp)\n",
    "abs(Zc)"
   ]
  },
  {
   "cell_type": "markdown",
   "metadata": {},
   "source": [
    "#### Potencia característica de la línea\n",
    "$$P_c = \\frac{U_c^2}{|\\bar{Z}_c|}$$"
   ]
  },
  {
   "cell_type": "code",
   "execution_count": 394,
   "metadata": {
    "collapsed": false
   },
   "outputs": [
    {
     "name": "stdout",
     "output_type": "stream",
     "text": [
      "La potencia característica de la línea vale: 11.1907327155 MW\n"
     ]
    }
   ],
   "source": [
    "Pc = Ubase**2./abs(Zc)*1e-6\n",
    "print(\"La potencia característica de la línea vale:\",Pc,\"MW\")"
   ]
  },
  {
   "cell_type": "markdown",
   "metadata": {},
   "source": [
    "## Distributed Parameters Model\n",
    "The calculation of Voltage and Current at the end of the line is made using the transfer matrix of distributed parameters for long transmission lines (line length bigger than 10 km).\n",
    "$$\\begin{bmatrix}\n",
    "V_l\\\\\n",
    "I_l\n",
    "\\end{bmatrix}= \\begin{bmatrix}\n",
    "A & B\\\\\n",
    "C & D\n",
    "\\end{bmatrix}  \\begin{bmatrix}\n",
    "V_o\\\\\n",
    "I_o\n",
    "\\end{bmatrix} = \\begin{bmatrix}\n",
    "\\cosh(\\gamma L) & -Z_c\\sinh(\\gamma L)\\\\\n",
    "-\\frac{1}{Z_c}\\sinh(\\gamma L) & \\cosh(\\gamma L)\n",
    "\\end{bmatrix}\\begin{bmatrix}\n",
    "V_o\\\\\n",
    "I_o\n",
    "\\end{bmatrix} $$"
   ]
  },
  {
   "cell_type": "code",
   "execution_count": 395,
   "metadata": {
    "collapsed": false
   },
   "outputs": [
    {
     "name": "stdout",
     "output_type": "stream",
     "text": [
      "[[  9.98914523e-01 +3.14045588e-04j  -6.85395770e+00 -2.36948714e+01j]\n",
      " [  9.59087810e-09 -9.15728809e-05j   9.98914523e-01 +3.14045588e-04j]]\n"
     ]
    }
   ],
   "source": [
    "# Matriz de transferencia\n",
    "A = np.cosh(gamma*L);\n",
    "B = -Zc*np.sinh(gamma*L);\n",
    "C = -np.sinh(gamma*L)/Zc;\n",
    "D = np.cosh(gamma*L);\n",
    "M = np.array([[A, B], [C, D]])\n",
    "print(M)"
   ]
  },
  {
   "cell_type": "markdown",
   "metadata": {},
   "source": [
    "#### Voltage drop simulation: Voltage at the begginig $V_o$"
   ]
  },
  {
   "cell_type": "markdown",
   "metadata": {},
   "source": [
    "**First hypothesis.** The input data for voltage drop simulation are the current feeding the load  and the voltage in the load . Then, changing the load (current at the end of the line), we obtain the different values of voltage drop depending on the power flow through the line.\n",
    "$$\\begin{bmatrix}\n",
    "V_o\\\\\n",
    "I_o\n",
    "\\end{bmatrix}= \\begin{bmatrix}\n",
    "A & B\\\\\n",
    "C & D\n",
    "\\end{bmatrix}^{-1} \\begin{bmatrix}\n",
    "V_l\\\\\n",
    "I_l\n",
    "\\end{bmatrix} $$"
   ]
  },
  {
   "cell_type": "code",
   "execution_count": 426,
   "metadata": {
    "collapsed": false
   },
   "outputs": [
    {
     "name": "stdout",
     "output_type": "stream",
     "text": [
      "[134254.11859284903, 129459.3286431044, 124664.53869335982, 119270.39999989713, 113876.26130643445, 109081.47135668984]\n"
     ]
    }
   ],
   "source": [
    "Io = []\n",
    "Vo = []\n",
    "V0 = []\n",
    "\n",
    "for i in range(6):\n",
    "    V0 = np.linalg.inv(M)*np.array([[V_final[i]],[I_load[i]]])\n",
    "    Vo.append(V0[0][0])\n",
    "    Io.append(V0[1][1])\n",
    "    \n",
    "\n",
    "V = [abs(x)*np.sqrt(3) for x in Vo];\n",
    "I = [abs(x)*np.sqrt(3) for x in Io];\n",
    "print([V[x] for x in range(len(V))])"
   ]
  },
  {
   "cell_type": "code",
   "execution_count": 423,
   "metadata": {
    "collapsed": false
   },
   "outputs": [
    {
     "data": {
      "application/pdf": "[encoded data removed]",
      "image/png": "[encoded data removed]",
      "text/plain": [
       "<matplotlib.figure.Figure at 0x19c28b97780>"
      ]
     },
     "metadata": {},
     "output_type": "display_data"
    }
   ],
   "source": [
    "# Tensión inicial medida vs. tensión inicial simulada\n",
    "V_inicial1 = [ V_inicial[x]*np.sqrt(3) for x in range(len(V_inicial))]\n",
    "plt.plot(Pot,V,label = \"Simulada\")\n",
    "plt.plot(Pot,V_inicial1, label = \"Medida\")\n",
    "plt.legend(loc = 1)\n",
    "plt.grid(True)"
   ]
  },
  {
   "cell_type": "markdown",
   "metadata": {},
   "source": [
    "If we analyze the voltage drop we obtain for every load point:\n",
    "$$\\Delta V^{(i)} = V_o^{(i)}-V_f^{(i)}$$\n"
   ]
  },
  {
   "cell_type": "code",
   "execution_count": 404,
   "metadata": {
    "collapsed": false
   },
   "outputs": [
    {
     "data": {
      "application/pdf": "[encoded data removed]",
      "image/png": "[encoded data removed]",
      "text/plain": [
       "<matplotlib.figure.Figure at 0x19c28c474e0>"
      ]
     },
     "metadata": {},
     "output_type": "display_data"
    }
   ],
   "source": [
    "deltav = [(abs(V_inicial[i]-  V[i] ))*np.sqrt(3) for i in range(6)]\n",
    "deltav_lab = [(V_inicial[i] - V_final[i])*np.sqrt(3) for i in range(6)]\n",
    "\n",
    "plt.plot(Pot,deltav,label = 'Simulation')\n",
    "plt.plot(Pot,deltav_lab,label = 'Measured')\n",
    "plt.xlabel('Power (MW)')\n",
    "plt.ylabel('Voltage Drop (p.u.)')\n",
    "plt.legend(loc = 2)\n",
    "plt.grid(True)\n"
   ]
  },
  {
   "cell_type": "markdown",
   "metadata": {},
   "source": [
    "#### Voltage drop simulation: Voltage in the load\n",
    "**Second hypothesis.** Now, the input data for voltage drop simulation are the current feeding the load  and the voltage at the beginning . Then, changing the load (current at the end of the line), we obtain the different values of voltage drop depending on the power flow through the line.\n",
    "$$I_o = \\frac{I_l-C\\cdot V_o}{D}$$\n",
    "\n",
    "$$V_l = A\\cdot V_o + B\\cdot I_o$$"
   ]
  },
  {
   "cell_type": "code",
   "execution_count": 406,
   "metadata": {
    "collapsed": false
   },
   "outputs": [],
   "source": [
    "Vl = [];\n",
    "Io = [];\n",
    "\n",
    "for i in range(6):\n",
    "    Io.append((I_load[i]- C*V_inicial[i])/D)\n",
    "    Vl.append(A*V_inicial[i] + B*Io[i])\n",
    "\n",
    "plt.plot()"
   ]
  }
 ],
 "metadata": {
  "kernelspec": {
   "display_name": "Python 3",
   "language": "python",
   "name": "python3"
  },
  "language_info": {
   "codemirror_mode": {
    "name": "ipython",
    "version": 3
   },
   "file_extension": ".py",
   "mimetype": "text/x-python",
   "name": "python",
   "nbconvert_exporter": "python",
   "pygments_lexer": "ipython3",
   "version": "3.6.0"
  }
 },
 "nbformat": 4,
 "nbformat_minor": 2
}
